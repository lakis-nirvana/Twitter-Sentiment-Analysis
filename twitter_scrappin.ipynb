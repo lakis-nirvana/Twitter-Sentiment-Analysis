{
 "cells": [
  {
   "cell_type": "code",
   "execution_count": 85,
   "metadata": {},
   "outputs": [],
   "source": [
    "# Import needed libraries\n",
    "import tweepy                   # Python wrapper around Twitter API\n",
    "import json\n",
    "import pandas as pd\n",
    "import csv\n",
    "from datetime import date\n",
    "from datetime import datetime\n",
    "import time\n",
    "from bs4 import BeautifulSoup"
   ]
  },
  {
   "cell_type": "code",
   "execution_count": 105,
   "metadata": {},
   "outputs": [],
   "source": [
    "import warnings\n",
    "warnings.filterwarnings(\"ignore\")\n"
   ]
  },
  {
   "cell_type": "code",
   "execution_count": 106,
   "metadata": {},
   "outputs": [],
   "source": [
    "#Importing credentials from cred json file\n",
    "with open('cred.json') as data_file:\n",
    "    data = json.load(data_file)"
   ]
  },
  {
   "cell_type": "code",
   "execution_count": 107,
   "metadata": {},
   "outputs": [],
   "source": [
    "# assigning credentials into variables\n",
    "consumer_key = data['consumer_key']\n",
    "consumer_secret = data['consumer_secret']\n",
    "access_token = data['access_token']\n",
    "access_token_secret = data['access_token_secret']"
   ]
  },
  {
   "cell_type": "code",
   "execution_count": 108,
   "metadata": {},
   "outputs": [],
   "source": [
    "# Helper function to save data into a JSON file\n",
    "# file_name: the name of the data file you want to save on your Google Drive\n",
    "# file_content: the data you want to save\n",
    "\n",
    "def save_json(file_name, file_content):\n",
    "  with open(file_name, 'w', encoding='utf-8') as f:\n",
    "    json.dump(file_content, f, ensure_ascii=False, indent=4)"
   ]
  },
  {
   "cell_type": "code",
   "execution_count": 109,
   "metadata": {},
   "outputs": [],
   "source": [
    "#Intialising Tweepy to get data\n",
    "auth = tweepy.OAuthHandler(consumer_key, consumer_secret)\n",
    "auth.set_access_token(access_token, access_token_secret)\n",
    "\n",
    "api = tweepy.API(auth)"
   ]
  },
  {
   "cell_type": "code",
   "execution_count": 112,
   "metadata": {},
   "outputs": [],
   "source": [
    "tweets = tweepy.Cursor(api.search_tweets,q='#datascience',lang='en').items(1)"
   ]
  },
  {
   "cell_type": "code",
   "execution_count": 113,
   "metadata": {},
   "outputs": [
    {
     "name": "stdout",
     "output_type": "stream",
     "text": [
      "['__class__', '__delattr__', '__dict__', '__dir__', '__doc__', '__eq__', '__format__', '__ge__', '__getattribute__', '__getstate__', '__gt__', '__hash__', '__init__', '__init_subclass__', '__le__', '__lt__', '__module__', '__ne__', '__new__', '__reduce__', '__reduce_ex__', '__repr__', '__setattr__', '__sizeof__', '__slots__', '__str__', '__subclasshook__', '__weakref__', '_api', '_json', 'author', 'contributors', 'coordinates', 'created_at', 'destroy', 'entities', 'favorite', 'favorite_count', 'favorited', 'geo', 'id', 'id_str', 'in_reply_to_screen_name', 'in_reply_to_status_id', 'in_reply_to_status_id_str', 'in_reply_to_user_id', 'in_reply_to_user_id_str', 'is_quote_status', 'lang', 'metadata', 'parse', 'parse_list', 'place', 'possibly_sensitive', 'retweet', 'retweet_count', 'retweeted', 'retweets', 'source', 'source_url', 'text', 'truncated', 'user']\n"
     ]
    }
   ],
   "source": [
    "for i in tweets:\n",
    "    print(dir(i))"
   ]
  },
  {
   "cell_type": "code",
   "execution_count": 135,
   "metadata": {},
   "outputs": [
    {
     "name": "stdout",
     "output_type": "stream",
     "text": [
      "failed on_status, 429 Too Many Requests\n",
      "88 - Rate limit exceeded\n"
     ]
    }
   ],
   "source": [
    "df_query_based_tweet = pd.DataFrame()\n",
    "text_query = 'Samsung Galaxy S22 Ultra'\n",
    "count = 10000\n",
    "\n",
    "try:\n",
    "    # Creation of query method using appropriate parameters\n",
    "    tweets = tweepy.Cursor(api.search_tweets,q=text_query,lang='en').items(count)\n",
    "\n",
    "    # Pulling information from tweets iterable object and adding relevant tweet information in our data frame\n",
    "    for tweet in tweets:\n",
    "        df_query_based_tweets = df_query_based_tweet.append(\n",
    "                          {'Created at' : tweet._json['created_at'],\n",
    "                                       'User ID': tweet._json['id'],\n",
    "                              'User Name': tweet.user._json['name'],\n",
    "                                        'Text': tweet._json['text'],\n",
    "                            'Favourite Count': tweet.favorite_count,\n",
    "                               'Retweet Count': tweet.retweet_count, \n",
    "                     'Description': tweet.user._json['description'],\n",
    "                           'entities': tweet.user._json['entities'],\n",
    "                           'Location': tweet.user._json['location'],\n",
    "             'Followers Count': tweet.user._json['followers_count'],\n",
    "                 'Friends Count': tweet.user._json['friends_count'],\n",
    "               'Statuses Count': tweet.user._json['statuses_count'],\n",
    "         'Profile Image Url': tweet.user._json['profile_image_url'],\n",
    "                         }, ignore_index=True)\n",
    "\n",
    "except BaseException as e:\n",
    "    print('failed on_status,',str(e))\n",
    "    time.sleep(3)"
   ]
  },
  {
   "cell_type": "code",
   "execution_count": 130,
   "metadata": {},
   "outputs": [
    {
     "data": {
      "text/html": [
       "<div>\n",
       "<style scoped>\n",
       "    .dataframe tbody tr th:only-of-type {\n",
       "        vertical-align: middle;\n",
       "    }\n",
       "\n",
       "    .dataframe tbody tr th {\n",
       "        vertical-align: top;\n",
       "    }\n",
       "\n",
       "    .dataframe thead th {\n",
       "        text-align: right;\n",
       "    }\n",
       "</style>\n",
       "<table border=\"1\" class=\"dataframe\">\n",
       "  <thead>\n",
       "    <tr style=\"text-align: right;\">\n",
       "      <th></th>\n",
       "      <th>Created at</th>\n",
       "      <th>User ID</th>\n",
       "      <th>User Name</th>\n",
       "      <th>Text</th>\n",
       "      <th>Favourite Count</th>\n",
       "      <th>Retweet Count</th>\n",
       "      <th>Description</th>\n",
       "      <th>entities</th>\n",
       "      <th>Location</th>\n",
       "      <th>Followers Count</th>\n",
       "      <th>Friends Count</th>\n",
       "      <th>Statuses Count</th>\n",
       "      <th>Profile Image Url</th>\n",
       "    </tr>\n",
       "  </thead>\n",
       "  <tbody>\n",
       "    <tr>\n",
       "      <th>0</th>\n",
       "      <td>Thu Feb 17 16:01:37 +0000 2022</td>\n",
       "      <td>1494341272080769024</td>\n",
       "      <td>DomeGlassForGalaxy</td>\n",
       "      <td>[Dome Glass] Samsung Galaxy S22 Ultra Tempered...</td>\n",
       "      <td>0</td>\n",
       "      <td>0</td>\n",
       "      <td>Whitestone is The world's First('09) tempered ...</td>\n",
       "      <td>{'description': {'urls': []}}</td>\n",
       "      <td></td>\n",
       "      <td>133</td>\n",
       "      <td>885</td>\n",
       "      <td>58867</td>\n",
       "      <td>http://pbs.twimg.com/profile_images/1355286690...</td>\n",
       "    </tr>\n",
       "    <tr>\n",
       "      <th>1</th>\n",
       "      <td>Thu Feb 17 16:01:35 +0000 2022</td>\n",
       "      <td>1494341264887918592</td>\n",
       "      <td>KimBiu🤍</td>\n",
       "      <td>RT @SamsungMobile: Now streaming: #V just for ...</td>\n",
       "      <td>0</td>\n",
       "      <td>53822</td>\n",
       "      <td>#HANBIN #BTS #ENHYPEN my bias is Taehyung, Hee...</td>\n",
       "      <td>{'description': {'urls': []}}</td>\n",
       "      <td>Sao Hoả</td>\n",
       "      <td>26</td>\n",
       "      <td>120</td>\n",
       "      <td>4149</td>\n",
       "      <td>http://pbs.twimg.com/profile_images/1279088665...</td>\n",
       "    </tr>\n",
       "    <tr>\n",
       "      <th>2</th>\n",
       "      <td>Thu Feb 17 16:01:21 +0000 2022</td>\n",
       "      <td>1494341203847901185</td>\n",
       "      <td>V OST IS COMING</td>\n",
       "      <td>RT @SamsungPH: Now streaming: #V just for you....</td>\n",
       "      <td>0</td>\n",
       "      <td>1433</td>\n",
       "      <td></td>\n",
       "      <td>{'description': {'urls': []}}</td>\n",
       "      <td></td>\n",
       "      <td>11</td>\n",
       "      <td>117</td>\n",
       "      <td>4837</td>\n",
       "      <td>http://pbs.twimg.com/profile_images/1483741458...</td>\n",
       "    </tr>\n",
       "    <tr>\n",
       "      <th>3</th>\n",
       "      <td>Thu Feb 17 16:01:14 +0000 2022</td>\n",
       "      <td>1494341175712821248</td>\n",
       "      <td>KimBiu🤍</td>\n",
       "      <td>RT @SamsungMobile: Nightography with #V. Style...</td>\n",
       "      <td>0</td>\n",
       "      <td>61147</td>\n",
       "      <td>#HANBIN #BTS #ENHYPEN my bias is Taehyung, Hee...</td>\n",
       "      <td>{'description': {'urls': []}}</td>\n",
       "      <td>Sao Hoả</td>\n",
       "      <td>26</td>\n",
       "      <td>120</td>\n",
       "      <td>4149</td>\n",
       "      <td>http://pbs.twimg.com/profile_images/1279088665...</td>\n",
       "    </tr>\n",
       "    <tr>\n",
       "      <th>4</th>\n",
       "      <td>Thu Feb 17 16:01:09 +0000 2022</td>\n",
       "      <td>1494341154153721861</td>\n",
       "      <td>•touniverseee• HOBI DAY ( ͡°❥ ͡°)</td>\n",
       "      <td>RT @SamsungPH: Now streaming: #V just for you....</td>\n",
       "      <td>0</td>\n",
       "      <td>1433</td>\n",
       "      <td>Fan Account For @BTS_twt .\\nVstan - OT7</td>\n",
       "      <td>{'description': {'urls': []}}</td>\n",
       "      <td>Taehyung's heart 💜</td>\n",
       "      <td>838</td>\n",
       "      <td>284</td>\n",
       "      <td>20961</td>\n",
       "      <td>http://pbs.twimg.com/profile_images/1484554514...</td>\n",
       "    </tr>\n",
       "  </tbody>\n",
       "</table>\n",
       "</div>"
      ],
      "text/plain": [
       "                       Created at              User ID  \\\n",
       "0  Thu Feb 17 16:01:37 +0000 2022  1494341272080769024   \n",
       "1  Thu Feb 17 16:01:35 +0000 2022  1494341264887918592   \n",
       "2  Thu Feb 17 16:01:21 +0000 2022  1494341203847901185   \n",
       "3  Thu Feb 17 16:01:14 +0000 2022  1494341175712821248   \n",
       "4  Thu Feb 17 16:01:09 +0000 2022  1494341154153721861   \n",
       "\n",
       "                           User Name  \\\n",
       "0                 DomeGlassForGalaxy   \n",
       "1                            KimBiu🤍   \n",
       "2                    V OST IS COMING   \n",
       "3                            KimBiu🤍   \n",
       "4  •touniverseee• HOBI DAY ( ͡°❥ ͡°)   \n",
       "\n",
       "                                                Text  Favourite Count  \\\n",
       "0  [Dome Glass] Samsung Galaxy S22 Ultra Tempered...                0   \n",
       "1  RT @SamsungMobile: Now streaming: #V just for ...                0   \n",
       "2  RT @SamsungPH: Now streaming: #V just for you....                0   \n",
       "3  RT @SamsungMobile: Nightography with #V. Style...                0   \n",
       "4  RT @SamsungPH: Now streaming: #V just for you....                0   \n",
       "\n",
       "   Retweet Count                                        Description  \\\n",
       "0              0  Whitestone is The world's First('09) tempered ...   \n",
       "1          53822  #HANBIN #BTS #ENHYPEN my bias is Taehyung, Hee...   \n",
       "2           1433                                                      \n",
       "3          61147  #HANBIN #BTS #ENHYPEN my bias is Taehyung, Hee...   \n",
       "4           1433            Fan Account For @BTS_twt .\\nVstan - OT7   \n",
       "\n",
       "                        entities            Location  Followers Count  \\\n",
       "0  {'description': {'urls': []}}                                  133   \n",
       "1  {'description': {'urls': []}}             Sao Hoả               26   \n",
       "2  {'description': {'urls': []}}                                   11   \n",
       "3  {'description': {'urls': []}}             Sao Hoả               26   \n",
       "4  {'description': {'urls': []}}  Taehyung's heart 💜              838   \n",
       "\n",
       "   Friends Count  Statuses Count  \\\n",
       "0            885           58867   \n",
       "1            120            4149   \n",
       "2            117            4837   \n",
       "3            120            4149   \n",
       "4            284           20961   \n",
       "\n",
       "                                   Profile Image Url  \n",
       "0  http://pbs.twimg.com/profile_images/1355286690...  \n",
       "1  http://pbs.twimg.com/profile_images/1279088665...  \n",
       "2  http://pbs.twimg.com/profile_images/1483741458...  \n",
       "3  http://pbs.twimg.com/profile_images/1279088665...  \n",
       "4  http://pbs.twimg.com/profile_images/1484554514...  "
      ]
     },
     "execution_count": 130,
     "metadata": {},
     "output_type": "execute_result"
    }
   ],
   "source": [
    "df_query_based_tweets.head()"
   ]
  },
  {
   "cell_type": "code",
   "execution_count": 136,
   "metadata": {},
   "outputs": [
    {
     "data": {
      "text/plain": [
       "(0, 0)"
      ]
     },
     "execution_count": 136,
     "metadata": {},
     "output_type": "execute_result"
    }
   ],
   "source": [
    "df_query_based_tweet.shape"
   ]
  },
  {
   "cell_type": "code",
   "execution_count": null,
   "metadata": {},
   "outputs": [],
   "source": []
  }
 ],
 "metadata": {
  "interpreter": {
   "hash": "1765cae2737a07e3b9dfce9a7adda1e7f1b619751085f81946650a41a0effbd3"
  },
  "kernelspec": {
   "display_name": "Python 3.9.10 ('twitter': venv)",
   "language": "python",
   "name": "python3"
  },
  "language_info": {
   "codemirror_mode": {
    "name": "ipython",
    "version": 3
   },
   "file_extension": ".py",
   "mimetype": "text/x-python",
   "name": "python",
   "nbconvert_exporter": "python",
   "pygments_lexer": "ipython3",
   "version": "3.9.10"
  },
  "orig_nbformat": 4
 },
 "nbformat": 4,
 "nbformat_minor": 2
}
