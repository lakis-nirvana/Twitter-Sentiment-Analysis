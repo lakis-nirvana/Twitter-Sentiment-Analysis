{
 "cells": [
  {
   "cell_type": "code",
   "execution_count": 85,
   "metadata": {},
   "outputs": [],
   "source": [
    "# Import needed libraries\n",
    "import tweepy                   # Python wrapper around Twitter API\n",
    "import json\n",
    "import pandas as pd\n",
    "import csv\n",
    "from datetime import date\n",
    "from datetime import datetime\n",
    "import time\n",
    "from bs4 import BeautifulSoup"
   ]
  },
  {
   "cell_type": "code",
   "execution_count": 105,
   "metadata": {},
   "outputs": [],
   "source": [
    "import warnings\n",
    "warnings.filterwarnings(\"ignore\")\n"
   ]
  },
  {
   "cell_type": "code",
   "execution_count": 106,
   "metadata": {},
   "outputs": [],
   "source": [
    "#Importing credentials from cred json file\n",
    "with open('cred.json') as data_file:\n",
    "    data = json.load(data_file)"
   ]
  },
  {
   "cell_type": "code",
   "execution_count": 107,
   "metadata": {},
   "outputs": [],
   "source": [
    "# assigning credentials into variables\n",
    "consumer_key = data['consumer_key']\n",
    "consumer_secret = data['consumer_secret']\n",
    "access_token = data['access_token']\n",
    "access_token_secret = data['access_token_secret']"
   ]
  },
  {
   "cell_type": "code",
   "execution_count": 108,
   "metadata": {},
   "outputs": [],
   "source": [
    "# Helper function to save data into a JSON file\n",
    "# file_name: the name of the data file you want to save on your Google Drive\n",
    "# file_content: the data you want to save\n",
    "\n",
    "def save_json(file_name, file_content):\n",
    "  with open(file_name, 'w', encoding='utf-8') as f:\n",
    "    json.dump(file_content, f, ensure_ascii=False, indent=4)"
   ]
  },
  {
   "cell_type": "code",
   "execution_count": 109,
   "metadata": {},
   "outputs": [],
   "source": [
    "#Intialising Tweepy to get data\n",
    "auth = tweepy.OAuthHandler(consumer_key, consumer_secret)\n",
    "auth.set_access_token(access_token, access_token_secret)\n",
    "\n",
    "api = tweepy.API(auth)"
   ]
  },
  {
   "cell_type": "code",
   "execution_count": 112,
   "metadata": {},
   "outputs": [],
   "source": [
    "tweets = tweepy.Cursor(api.search_tweets,q='#datascience',lang='en').items(1)"
   ]
  },
  {
   "cell_type": "code",
   "execution_count": 113,
   "metadata": {},
   "outputs": [
    {
     "name": "stdout",
     "output_type": "stream",
     "text": [
      "['__class__', '__delattr__', '__dict__', '__dir__', '__doc__', '__eq__', '__format__', '__ge__', '__getattribute__', '__getstate__', '__gt__', '__hash__', '__init__', '__init_subclass__', '__le__', '__lt__', '__module__', '__ne__', '__new__', '__reduce__', '__reduce_ex__', '__repr__', '__setattr__', '__sizeof__', '__slots__', '__str__', '__subclasshook__', '__weakref__', '_api', '_json', 'author', 'contributors', 'coordinates', 'created_at', 'destroy', 'entities', 'favorite', 'favorite_count', 'favorited', 'geo', 'id', 'id_str', 'in_reply_to_screen_name', 'in_reply_to_status_id', 'in_reply_to_status_id_str', 'in_reply_to_user_id', 'in_reply_to_user_id_str', 'is_quote_status', 'lang', 'metadata', 'parse', 'parse_list', 'place', 'possibly_sensitive', 'retweet', 'retweet_count', 'retweeted', 'retweets', 'source', 'source_url', 'text', 'truncated', 'user']\n"
     ]
    }
   ],
   "source": [
    "for i in tweets:\n",
    "    print(dir(i))"
   ]
  },
  {
   "cell_type": "code",
   "execution_count": 144,
   "metadata": {},
   "outputs": [
    {
     "name": "stdout",
     "output_type": "stream",
     "text": [
      "failed on_status, 429 Too Many Requests\n",
      "88 - Rate limit exceeded\n"
     ]
    }
   ],
   "source": [
    "df_query_based_tweet = pd.DataFrame()\n",
    "text_query = 'Samsung Galaxy S22 Ultra'\n",
    "count = 10000\n",
    "\n",
    "try:\n",
    "    # Creation of query method using appropriate parameters\n",
    "    tweets = tweepy.Cursor(api.search_tweets,q=text_query,lang='en').items(count)\n",
    "\n",
    "    # Pulling information from tweets iterable object and adding relevant tweet information in our data frame\n",
    "    for tweet in tweets:\n",
    "        df_query_based_tweet = df_query_based_tweet.append(\n",
    "                          {'Created at' : tweet._json['created_at'],\n",
    "                                       'User ID': tweet._json['id'],\n",
    "                              'User Name': tweet.user._json['name'],\n",
    "                                        'Text': tweet._json['text'],\n",
    "                            'Favourite Count': tweet.favorite_count,\n",
    "                               'Retweet Count': tweet.retweet_count, \n",
    "                     'Description': tweet.user._json['description'],\n",
    "                           'entities': tweet.user._json['entities'],\n",
    "                           'Location': tweet.user._json['location'],\n",
    "             'Followers Count': tweet.user._json['followers_count'],\n",
    "                 'Friends Count': tweet.user._json['friends_count'],\n",
    "               'Statuses Count': tweet.user._json['statuses_count'],\n",
    "         'Profile Image Url': tweet.user._json['profile_image_url'],\n",
    "                         }, ignore_index=True)\n",
    "\n",
    "except BaseException as e:\n",
    "    print('failed on_status,',str(e))\n",
    "    time.sleep(15*60)"
   ]
  },
  {
   "cell_type": "code",
   "execution_count": null,
   "metadata": {},
   "outputs": [],
   "source": []
  },
  {
   "cell_type": "code",
   "execution_count": null,
   "metadata": {},
   "outputs": [],
   "source": []
  },
  {
   "cell_type": "code",
   "execution_count": null,
   "metadata": {},
   "outputs": [],
   "source": []
  }
 ],
 "metadata": {
  "interpreter": {
   "hash": "1765cae2737a07e3b9dfce9a7adda1e7f1b619751085f81946650a41a0effbd3"
  },
  "kernelspec": {
   "display_name": "Python 3.9.10 ('twitter': venv)",
   "language": "python",
   "name": "python3"
  },
  "language_info": {
   "codemirror_mode": {
    "name": "ipython",
    "version": 3
   },
   "file_extension": ".py",
   "mimetype": "text/x-python",
   "name": "python",
   "nbconvert_exporter": "python",
   "pygments_lexer": "ipython3",
   "version": "3.9.10"
  },
  "orig_nbformat": 4
 },
 "nbformat": 4,
 "nbformat_minor": 2
}
